{
  "nbformat": 4,
  "nbformat_minor": 0,
  "metadata": {
    "colab": {
      "name": "Colab_intro.ipynb",
      "version": "0.3.2",
      "provenance": [],
      "collapsed_sections": []
    },
    "kernelspec": {
      "name": "python3",
      "display_name": "Python 3"
    },
    "accelerator": "GPU"
  },
  "cells": [
    {
      "metadata": {
        "id": "VRPegb0f7AdZ",
        "colab_type": "text"
      },
      "cell_type": "markdown",
      "source": [
        "Hello all ! Welcome to google colab intro tutorial\n",
        "\n",
        "**What is Google Colab ?**\n",
        "\n",
        "Google Colab is a free cloud service which comes with pre installed machine learning frameworks like tensorflow and free gpus to run on\n",
        "\n",
        "Index\n",
        "1.   Running Basic Python code in Colab\n",
        "1.   How to run commands in cells\n",
        "2.   CPU and GPU configurations   \n",
        "3.   How to mount google drive\n",
        "4.   Run any ipython notebook from github on Colab\n",
        "5.   A simple cusine classification problem based on ingredients\n",
        "\n"
      ]
    },
    {
      "metadata": {
        "id": "5ToxgsDNDJdG",
        "colab_type": "text"
      },
      "cell_type": "markdown",
      "source": [
        "***Running Basic Python Code in Colab***\n",
        "\n",
        "The cell below shows some python examples"
      ]
    },
    {
      "metadata": {
        "id": "FtwAskSdDRQ3",
        "colab_type": "code",
        "colab": {}
      },
      "cell_type": "code",
      "source": [
        "x = 10\n",
        "\n",
        "print(x)\n",
        "\n",
        "y = 20\n",
        "\n",
        "print(x + y)\n"
      ],
      "execution_count": 0,
      "outputs": []
    },
    {
      "metadata": {
        "id": "4RkIhlgP9hcC",
        "colab_type": "text"
      },
      "cell_type": "markdown",
      "source": [
        "***How to run shell commands ***\n",
        "\n",
        "Inorder to run shell commands add ***!*** in front of the command\n",
        "\n",
        "Example: **!ls** will list the contents of the folder"
      ]
    },
    {
      "metadata": {
        "id": "rUX7mY_x6iLH",
        "colab_type": "code",
        "colab": {}
      },
      "cell_type": "code",
      "source": [
        "!ls"
      ],
      "execution_count": 0,
      "outputs": []
    },
    {
      "metadata": {
        "id": "o2xrx2c4Ew8W",
        "colab_type": "text"
      },
      "cell_type": "markdown",
      "source": [
        "***Memory, CPU and GPU Configurations***\n",
        "\n",
        "Memory - !cat /proc/meminfo\n",
        "\n",
        "CPU - !cat /proc/cpuinfo\n",
        "\n",
        "GPU \n",
        "\n",
        "        import tensorflow as tf\n",
        "        tf.test.gpu_device_name()\n"
      ]
    },
    {
      "metadata": {
        "id": "eBF1VxU3GUq7",
        "colab_type": "code",
        "colab": {}
      },
      "cell_type": "code",
      "source": [
        "!cat /proc/meminfo\n"
      ],
      "execution_count": 0,
      "outputs": []
    },
    {
      "metadata": {
        "id": "8DHMF4JrGwEB",
        "colab_type": "code",
        "colab": {}
      },
      "cell_type": "code",
      "source": [
        "!cat /proc/cpuinfo"
      ],
      "execution_count": 0,
      "outputs": []
    },
    {
      "metadata": {
        "id": "WJbYK_kxG5kb",
        "colab_type": "code",
        "colab": {
          "base_uri": "https://localhost:8080/",
          "height": 272
        },
        "outputId": "43c9a68b-3bdb-4ea8-fe72-b648413b43a1"
      },
      "cell_type": "code",
      "source": [
        "import tensorflow as tf\n",
        "from tensorflow.python.client import device_lib\n",
        "\n",
        "tf.test.gpu_device_name()\n",
        "device_lib.list_local_devices()"
      ],
      "execution_count": 10,
      "outputs": [
        {
          "output_type": "execute_result",
          "data": {
            "text/plain": [
              "[name: \"/device:CPU:0\"\n",
              " device_type: \"CPU\"\n",
              " memory_limit: 268435456\n",
              " locality {\n",
              " }\n",
              " incarnation: 18414201210285949547, name: \"/device:GPU:0\"\n",
              " device_type: \"GPU\"\n",
              " memory_limit: 11281553818\n",
              " locality {\n",
              "   bus_id: 1\n",
              "   links {\n",
              "   }\n",
              " }\n",
              " incarnation: 5937062516959101879\n",
              " physical_device_desc: \"device: 0, name: Tesla K80, pci bus id: 0000:00:04.0, compute capability: 3.7\"]"
            ]
          },
          "metadata": {
            "tags": []
          },
          "execution_count": 10
        }
      ]
    },
    {
      "metadata": {
        "id": "09RxOzjb-UqD",
        "colab_type": "text"
      },
      "cell_type": "markdown",
      "source": [
        "***How to mount google drive***\n",
        "\n",
        "The example below shows how to mount your Google Drive in your virtual machine using an authorization code, and shows a couple of ways to write & read files there. Once executed, observe the new file (foo.txt) is visible in https://drive.google.com/\n",
        "\n",
        "Note this only supports reading and writing files; to programmatically change sharing settings etc use one of the other options below.\n",
        "\n",
        "\n",
        "\n",
        "Please refer this link to know how to load files into Colab from local file system, google drive in three different forms\n",
        "* Using the native REST API;\n",
        "* Using a wrapper around the API such as PyDrive; or\n",
        "* Mounting your Google Drive in the runtime's virtual machine.\n",
        "* From Google Cloud Storage bucket"
      ]
    },
    {
      "metadata": {
        "id": "YQSrkNm-6hlf",
        "colab_type": "code",
        "colab": {}
      },
      "cell_type": "code",
      "source": [
        "from google.colab import drive\n",
        "drive.mount('/content/gdrive')"
      ],
      "execution_count": 0,
      "outputs": []
    },
    {
      "metadata": {
        "id": "4soWKROU6hL0",
        "colab_type": "code",
        "colab": {}
      },
      "cell_type": "code",
      "source": [
        "with open('/content/gdrive/My Drive/foo.txt', 'w') as f:\n",
        "  f.write('Hello Google Drive!')\n",
        "!cat /content/gdrive/My\\ Drive/foo.txt"
      ],
      "execution_count": 0,
      "outputs": []
    },
    {
      "metadata": {
        "id": "psVsXYrgNywM",
        "colab_type": "code",
        "colab": {}
      },
      "cell_type": "code",
      "source": [
        "!pip3 install gensim\n"
      ],
      "execution_count": 0,
      "outputs": []
    },
    {
      "metadata": {
        "id": "ql3DH9fJ6WSC",
        "colab_type": "code",
        "colab": {}
      },
      "cell_type": "code",
      "source": [
        ""
      ],
      "execution_count": 0,
      "outputs": []
    },
    {
      "metadata": {
        "id": "FsKydRREOJLi",
        "colab_type": "code",
        "colab": {}
      },
      "cell_type": "code",
      "source": [
        "import os\n",
        "import gensim\n",
        "import numpy as np\n",
        "import pandas as pd\n",
        "import matplotlib.pyplot as plt\n",
        "import matplotlib.gridspec as gridspec\n",
        "from sklearn.preprocessing import LabelEncoder\n",
        "from sklearn.linear_model import LogisticRegression"
      ],
      "execution_count": 0,
      "outputs": []
    },
    {
      "metadata": {
        "id": "YiKcDPRLP3tK",
        "colab_type": "code",
        "colab": {
          "base_uri": "https://localhost:8080/",
          "height": 122
        },
        "outputId": "448a0b42-4f6c-4346-c1bf-ad47a6021ecc"
      },
      "cell_type": "code",
      "source": [
        "from google.colab import drive\n",
        "drive.mount('/content/gdrive')\n"
      ],
      "execution_count": 4,
      "outputs": [
        {
          "output_type": "stream",
          "text": [
            "Go to this URL in a browser: https://accounts.google.com/o/oauth2/auth?client_id=947318989803-6bn6qk8qdgf4n4g3pfee6491hc0brc4i.apps.googleusercontent.com&redirect_uri=urn%3Aietf%3Awg%3Aoauth%3A2.0%3Aoob&scope=email%20https%3A%2F%2Fwww.googleapis.com%2Fauth%2Fdocs.test%20https%3A%2F%2Fwww.googleapis.com%2Fauth%2Fdrive%20https%3A%2F%2Fwww.googleapis.com%2Fauth%2Fdrive.photos.readonly%20https%3A%2F%2Fwww.googleapis.com%2Fauth%2Fpeopleapi.readonly&response_type=code\n",
            "\n",
            "Enter your authorization code:\n",
            "··········\n",
            "Mounted at /content/gdrive\n"
          ],
          "name": "stdout"
        }
      ]
    },
    {
      "metadata": {
        "id": "NZYBr47MVGgg",
        "colab_type": "code",
        "colab": {
          "base_uri": "https://localhost:8080/",
          "height": 34
        },
        "outputId": "209c244b-3ccf-493e-8ddf-5d3670ca24e7"
      },
      "cell_type": "code",
      "source": [
        "!ls /content/gdrive/My\\ Drive/cusines\\ dataset/\n",
        "\n",
        "\n"
      ],
      "execution_count": 7,
      "outputs": [
        {
          "output_type": "stream",
          "text": [
            "sample_submission.csv  test.json  test.json.zip  train.json  train.json.zip\n"
          ],
          "name": "stdout"
        }
      ]
    },
    {
      "metadata": {
        "id": "KsdycyqTVsWm",
        "colab_type": "code",
        "colab": {}
      },
      "cell_type": "code",
      "source": [
        "!cd /content/gdrive/My\\ Drive/cusines\\ dataset/\n"
      ],
      "execution_count": 0,
      "outputs": []
    },
    {
      "metadata": {
        "id": "m3nKR6daXJY0",
        "colab_type": "code",
        "colab": {
          "base_uri": "https://localhost:8080/",
          "height": 34
        },
        "outputId": "8ff3fc7e-98a1-41e9-996e-58bd5c0464c5"
      },
      "cell_type": "code",
      "source": [
        "!ls\n"
      ],
      "execution_count": 9,
      "outputs": [
        {
          "output_type": "stream",
          "text": [
            "gdrive\tsample_data\n"
          ],
          "name": "stdout"
        }
      ]
    },
    {
      "metadata": {
        "id": "jkBjpVF5XLK7",
        "colab_type": "code",
        "colab": {
          "base_uri": "https://localhost:8080/",
          "height": 68
        },
        "outputId": "8e96ff12-7515-4629-84e1-03f4067a05e8"
      },
      "cell_type": "code",
      "source": [
        "!ls /\n"
      ],
      "execution_count": 10,
      "outputs": [
        {
          "output_type": "stream",
          "text": [
            "bin\t    content  etc   lib64  opt\trun   sys    usr\n",
            "boot\t    datalab  home  media  proc\tsbin  tmp    var\n",
            "colabtools  dev      lib   mnt\t  root\tsrv   tools\n"
          ],
          "name": "stdout"
        }
      ]
    },
    {
      "metadata": {
        "id": "wqTgfxaqXRUI",
        "colab_type": "code",
        "colab": {}
      },
      "cell_type": "code",
      "source": [
        "!cd /content"
      ],
      "execution_count": 0,
      "outputs": []
    },
    {
      "metadata": {
        "id": "SU5arMfHXXED",
        "colab_type": "code",
        "colab": {
          "base_uri": "https://localhost:8080/",
          "height": 34
        },
        "outputId": "1a3594b9-2abb-4ab3-b9fd-3660155d7ddc"
      },
      "cell_type": "code",
      "source": [
        "!ls\n"
      ],
      "execution_count": 13,
      "outputs": [
        {
          "output_type": "stream",
          "text": [
            "gdrive\tsample_data\n"
          ],
          "name": "stdout"
        }
      ]
    },
    {
      "metadata": {
        "id": "hoIdsDazXbBs",
        "colab_type": "code",
        "colab": {}
      },
      "cell_type": "code",
      "source": [
        "!cd gdrive"
      ],
      "execution_count": 0,
      "outputs": []
    },
    {
      "metadata": {
        "id": "Ks47gBJvXgif",
        "colab_type": "code",
        "colab": {
          "base_uri": "https://localhost:8080/",
          "height": 34
        },
        "outputId": "ad1da287-89d7-4ef4-d7d4-592b75523425"
      },
      "cell_type": "code",
      "source": [
        "!ls\n"
      ],
      "execution_count": 15,
      "outputs": [
        {
          "output_type": "stream",
          "text": [
            "gdrive\tsample_data\n"
          ],
          "name": "stdout"
        }
      ]
    },
    {
      "metadata": {
        "id": "dxPgOWfyXh0w",
        "colab_type": "code",
        "colab": {}
      },
      "cell_type": "code",
      "source": [
        "path = '/content/gdrive/My Drive/cusines dataset/'"
      ],
      "execution_count": 0,
      "outputs": []
    },
    {
      "metadata": {
        "id": "IxfG0kr_Yp-3",
        "colab_type": "code",
        "colab": {}
      },
      "cell_type": "code",
      "source": [
        "from os import listdir"
      ],
      "execution_count": 0,
      "outputs": []
    },
    {
      "metadata": {
        "id": "T764qspkY4sB",
        "colab_type": "code",
        "colab": {}
      },
      "cell_type": "code",
      "source": [
        "l = [f for f in listdir(path)]"
      ],
      "execution_count": 0,
      "outputs": []
    },
    {
      "metadata": {
        "id": "oJreTgsJZOj-",
        "colab_type": "code",
        "colab": {
          "base_uri": "https://localhost:8080/",
          "height": 34
        },
        "outputId": "d1866de6-48af-41bf-d9c1-1ff977a59ec2"
      },
      "cell_type": "code",
      "source": [
        "print(l)"
      ],
      "execution_count": 23,
      "outputs": [
        {
          "output_type": "stream",
          "text": [
            "['sample_submission.csv', 'test.json', 'train.json', 'train.json.zip', 'test.json.zip']\n"
          ],
          "name": "stdout"
        }
      ]
    },
    {
      "metadata": {
        "id": "3tdg1hlQZUJJ",
        "colab_type": "code",
        "colab": {}
      },
      "cell_type": "code",
      "source": [
        "data = pd.read_json(path+'train.json')\n",
        "test = pd.read_json(path+'test.json')\n"
      ],
      "execution_count": 0,
      "outputs": []
    },
    {
      "metadata": {
        "id": "rcK20TYgb2eD",
        "colab_type": "code",
        "colab": {
          "base_uri": "https://localhost:8080/",
          "height": 51
        },
        "outputId": "cd4d5283-7218-4790-dbaf-ba9a9e95ffc5"
      },
      "cell_type": "code",
      "source": [
        "print('Training data shape: {}'.format(data.shape))\n",
        "print('Test data shape: {}'.format(test.shape))"
      ],
      "execution_count": 29,
      "outputs": [
        {
          "output_type": "stream",
          "text": [
            "Training data shape: (39774, 3)\n",
            "Test data shape: (9944, 2)\n"
          ],
          "name": "stdout"
        }
      ]
    },
    {
      "metadata": {
        "id": "NCB6FaU5cEBV",
        "colab_type": "code",
        "colab": {}
      },
      "cell_type": "code",
      "source": [
        "target = data.cuisine"
      ],
      "execution_count": 0,
      "outputs": []
    },
    {
      "metadata": {
        "id": "b3K-axH3cLoz",
        "colab_type": "code",
        "colab": {}
      },
      "cell_type": "code",
      "source": [
        "data['ingredient_count'] = data.ingredients.apply(lambda x: len(x))\n",
        "def flatten_lists(lst):\n",
        "    \"\"\"Remove nested lists.\"\"\"\n",
        "    return [item for sublist in lst for item in sublist]"
      ],
      "execution_count": 0,
      "outputs": []
    },
    {
      "metadata": {
        "id": "TZZ7ydiCcQxK",
        "colab_type": "code",
        "colab": {
          "base_uri": "https://localhost:8080/",
          "height": 498
        },
        "outputId": "13b82a92-0171-4b97-b1ba-109484ebacf9"
      },
      "cell_type": "code",
      "source": [
        "f = plt.figure(figsize=(14,8))\n",
        "gs = gridspec.GridSpec(2, 2)\n",
        "\n",
        "ax1 = plt.subplot(gs[0, :])\n",
        "data.ingredient_count.value_counts().hist(ax=ax1)\n",
        "ax1.set_title('Recipe richness', fontsize=12)\n",
        "\n",
        "ax2 = plt.subplot(gs[1, 0])\n",
        "pd.Series(flatten_lists(list(data['ingredients']))).value_counts()[:20].plot(kind='barh', ax=ax2)\n",
        "ax2.set_title('Most popular ingredients', fontsize=12)\n",
        "\n",
        "ax3 = plt.subplot(gs[1, 1])\n",
        "data.groupby('cuisine').mean()['ingredient_count'].sort_values(ascending=False).plot(kind='barh', ax=ax3)\n",
        "ax3.set_title('Average number of ingredients in cuisines', fontsize=12)\n",
        "\n",
        "plt.show()"
      ],
      "execution_count": 32,
      "outputs": [
        {
          "output_type": "display_data",
          "data": {
            "image/png": "[encoded data removed]",
            "text/plain": [
              "<matplotlib.figure.Figure at 0x7f257cad0400>"
            ]
          },
          "metadata": {
            "tags": []
          }
        }
      ]
    },
    {
      "metadata": {
        "id": "DdZna41WcS5D",
        "colab_type": "code",
        "colab": {}
      },
      "cell_type": "code",
      "source": [
        "w2v = gensim.models.Word2Vec(list(data.ingredients), size=350, window=10, min_count=2, iter=20)\n"
      ],
      "execution_count": 0,
      "outputs": []
    },
    {
      "metadata": {
        "id": "w14GvEPPcYED",
        "colab_type": "code",
        "colab": {
          "base_uri": "https://localhost:8080/",
          "height": 255
        },
        "outputId": "54b6d7bb-540a-4958-ac50-c63eaa0f7bff"
      },
      "cell_type": "code",
      "source": [
        "w2v.most_similar(['meat'])"
      ],
      "execution_count": 34,
      "outputs": [
        {
          "output_type": "stream",
          "text": [
            "/usr/local/lib/python3.6/dist-packages/ipykernel_launcher.py:1: DeprecationWarning: Call to deprecated `most_similar` (Method will be removed in 4.0.0, use self.wv.most_similar() instead).\n",
            "  \"\"\"Entry point for launching an IPython kernel.\n",
            "/usr/local/lib/python3.6/dist-packages/gensim/matutils.py:737: FutureWarning: Conversion of the second argument of issubdtype from `int` to `np.signedinteger` is deprecated. In future, it will be treated as `np.int64 == np.dtype(int).type`.\n",
            "  if np.issubdtype(vec.dtype, np.int):\n"
          ],
          "name": "stderr"
        },
        {
          "output_type": "execute_result",
          "data": {
            "text/plain": [
              "[('beef', 0.742953896522522),\n",
              " ('pork chops', 0.6455117464065552),\n",
              " ('pork', 0.6415594816207886),\n",
              " ('ground beef', 0.6282061338424683),\n",
              " ('beef brisket', 0.6225401163101196),\n",
              " ('broth', 0.6106168031692505),\n",
              " ('chicken', 0.6102498769760132),\n",
              " ('pork loin', 0.6004678010940552),\n",
              " ('beef tongue', 0.5827422142028809),\n",
              " ('pork shoulder', 0.5751793384552002)]"
            ]
          },
          "metadata": {
            "tags": []
          },
          "execution_count": 34
        }
      ]
    },
    {
      "metadata": {
        "id": "PiUwC7f1cpXH",
        "colab_type": "code",
        "colab": {}
      },
      "cell_type": "code",
      "source": [
        "import warnings\n",
        "warnings.filterwarnings('ignore')"
      ],
      "execution_count": 0,
      "outputs": []
    },
    {
      "metadata": {
        "id": "RsxL3I-9c5je",
        "colab_type": "code",
        "colab": {
          "base_uri": "https://localhost:8080/",
          "height": 187
        },
        "outputId": "e93e089c-472d-4a19-9bb5-2e4c3ff4ac61"
      },
      "cell_type": "code",
      "source": [
        "w2v.most_similar(['chicken'])"
      ],
      "execution_count": 36,
      "outputs": [
        {
          "output_type": "execute_result",
          "data": {
            "text/plain": [
              "[('chicken breasts', 0.7657210826873779),\n",
              " ('chicken thighs', 0.7201263904571533),\n",
              " ('boneless chicken breast', 0.713852047920227),\n",
              " ('boneless skinless chicken breasts', 0.6848801970481873),\n",
              " ('cooked chicken', 0.6593297123908997),\n",
              " ('boneless chicken skinless thigh', 0.638907253742218),\n",
              " ('chicken pieces', 0.6367906332015991),\n",
              " ('meat', 0.6102498769760132),\n",
              " ('chicken meat', 0.5974780321121216),\n",
              " ('chicken legs', 0.5957319736480713)]"
            ]
          },
          "metadata": {
            "tags": []
          },
          "execution_count": 36
        }
      ]
    },
    {
      "metadata": {
        "id": "elIesP1Gc8bh",
        "colab_type": "code",
        "colab": {}
      },
      "cell_type": "code",
      "source": [
        ""
      ],
      "execution_count": 0,
      "outputs": []
    }
  ]
}