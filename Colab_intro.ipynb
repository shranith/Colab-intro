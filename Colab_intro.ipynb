{
  "nbformat": 4,
  "nbformat_minor": 0,
  "metadata": {
    "colab": {
      "name": "Colab_intro.ipynb",
      "version": "0.3.2",
      "provenance": [],
      "collapsed_sections": [
        "o2xrx2c4Ew8W"
      ]
    },
    "kernelspec": {
      "name": "python3",
      "display_name": "Python 3"
    },
    "accelerator": "GPU"
  },
  "cells": [
    {
      "metadata": {
        "id": "VRPegb0f7AdZ",
        "colab_type": "text"
      },
      "cell_type": "markdown",
      "source": [
        "*Hello, Welcome to google colab intro tutorial*\n",
        "\n",
        "# **What is Google Colab ?**\n",
        "\n",
        "Google Colab is a free cloud service which comes with pre installed machine learning frameworks like tensorflow and free gpus to run on\n",
        "\n",
        "Google colaboratory currently offers the computing services of a Tesla K80 GPU for free. The only catch here is that you can use the computing services for a maximum of 12 hours at a time (you can think of it in terms of a session). Basically, when you train your models on the colaboratory, you are connected to a GPU-based virtual machine where you are given a maximum of 12 hours at a time, after which you lose access to that particular virtual machine instance (all data, that is, models parameters as well as datasets that aren’t saved to the Google drive before this period will be lost, so make sure to save snapshots of your model parameters at regular intervals, else you will have to start training your models from scratch again). After 12 hours you are assigned a different virtual machine (for free of course) and the cycle repeats.\n",
        "\n",
        "**Contents**:\n",
        "1.   Running Basic Python code in Colab\n",
        "1.   How to run shell commands in cells\n",
        "2.   CPU and GPU configurations   \n",
        "3.   How to mount google drive\n",
        "4.   Run any ipython notebook from github on Colab\n",
        "5.   A simple cusine classification problem based on ingredients\n",
        "\n"
      ]
    },
    {
      "metadata": {
        "id": "5ToxgsDNDJdG",
        "colab_type": "text"
      },
      "cell_type": "markdown",
      "source": [
        "# ***1. Running Basic Python Code in Colab***\n",
        "\n",
        "The cell below shows some python examples"
      ]
    },
    {
      "metadata": {
        "id": "FtwAskSdDRQ3",
        "colab_type": "code",
        "colab": {}
      },
      "cell_type": "code",
      "source": [
        "x = 10\n",
        "\n",
        "print(x)\n",
        "\n",
        "y = 20\n",
        "\n",
        "print(x + y)\n"
      ],
      "execution_count": 0,
      "outputs": []
    },
    {
      "metadata": {
        "id": "4RkIhlgP9hcC",
        "colab_type": "text"
      },
      "cell_type": "markdown",
      "source": [
        "# ***2. How to run shell commands ***\n",
        "\n",
        "Inorder to run shell commands add ***!*** in front of the command\n",
        "\n",
        "Example: **!ls** will list the contents of the folder"
      ]
    },
    {
      "metadata": {
        "id": "rUX7mY_x6iLH",
        "colab_type": "code",
        "colab": {
          "base_uri": "https://localhost:8080/",
          "height": 2278
        },
        "outputId": "d7050695-7568-4a81-dbfd-e3930ced2251"
      },
      "cell_type": "code",
      "source": [
        "!ls\n",
        "!pip freeze #list of installed libraries"
      ],
      "execution_count": 1,
      "outputs": [
        {
          "output_type": "stream",
          "text": [
            "sample_data\n",
            "absl-py==0.5.0\n",
            "altair==2.2.2\n",
            "astor==0.7.1\n",
            "beautifulsoup4==4.6.3\n",
            "bleach==3.0.2\n",
            "cachetools==2.1.0\n",
            "certifi==2018.10.15\n",
            "chardet==3.0.4\n",
            "crcmod==1.7\n",
            "cycler==0.10.0\n",
            "cymem==2.0.2\n",
            "cytoolz==0.9.0.1\n",
            "decorator==4.3.0\n",
            "defusedxml==0.5.0\n",
            "dill==0.2.8.2\n",
            "entrypoints==0.2.3\n",
            "filelock==3.0.9\n",
            "future==0.16.0\n",
            "gast==0.2.0\n",
            "google-api-core==1.5.0\n",
            "google-api-python-client==1.6.7\n",
            "google-auth==1.4.2\n",
            "google-auth-httplib2==0.0.3\n",
            "google-auth-oauthlib==0.2.0\n",
            "google-cloud-bigquery==1.1.0\n",
            "google-cloud-core==0.28.1\n",
            "google-cloud-language==1.0.2\n",
            "google-cloud-storage==1.8.0\n",
            "google-cloud-translate==1.3.1\n",
            "google-colab==0.0.1a1\n",
            "google-resumable-media==0.3.1\n",
            "googleapis-common-protos==1.5.3\n",
            "grpcio==1.15.0\n",
            "h5py==2.8.0\n",
            "httplib2==0.11.3\n",
            "idna==2.6\n",
            "ipykernel==4.6.1\n",
            "ipython==5.5.0\n",
            "ipython-genutils==0.2.0\n",
            "Jinja2==2.10\n",
            "joblib==0.12.5\n",
            "jsonschema==2.6.0\n",
            "jupyter-client==5.2.3\n",
            "jupyter-core==4.4.0\n",
            "Keras==2.1.6\n",
            "Keras-Applications==1.0.6\n",
            "Keras-Preprocessing==1.0.5\n",
            "Markdown==3.0.1\n",
            "MarkupSafe==1.0\n",
            "matplotlib==2.1.2\n",
            "mistune==0.8.4\n",
            "mpmath==1.0.0\n",
            "msgpack==0.5.6\n",
            "msgpack-numpy==0.4.3.2\n",
            "murmurhash==1.0.1\n",
            "nbconvert==5.4.0\n",
            "nbformat==4.4.0\n",
            "networkx==2.2\n",
            "nltk==3.2.5\n",
            "notebook==5.2.2\n",
            "numpy==1.14.6\n",
            "oauth2client==4.1.3\n",
            "oauthlib==2.1.0\n",
            "olefile==0.46\n",
            "opencv-python==3.4.3.18\n",
            "pandas==0.22.0\n",
            "pandas-gbq==0.4.1\n",
            "pandocfilters==1.4.2\n",
            "patsy==0.5.0\n",
            "pexpect==4.6.0\n",
            "pickleshare==0.7.5\n",
            "Pillow==4.0.0\n",
            "plac==0.9.6\n",
            "plotly==1.12.12\n",
            "pluggy==0.8.0\n",
            "portpicker==1.2.0\n",
            "preshed==2.0.1\n",
            "prompt-toolkit==1.0.15\n",
            "protobuf==3.6.1\n",
            "psutil==5.4.7\n",
            "ptyprocess==0.6.0\n",
            "py==1.7.0\n",
            "pyasn1==0.4.4\n",
            "pyasn1-modules==0.2.2\n",
            "Pygments==2.1.3\n",
            "pygobject==3.26.1\n",
            "pymc3==3.5\n",
            "pyparsing==2.2.2\n",
            "pystache==0.5.4\n",
            "python-apt==1.6.2\n",
            "python-dateutil==2.5.3\n",
            "pytz==2018.5\n",
            "PyWavelets==1.0.1\n",
            "PyYAML==3.13\n",
            "pyzmq==16.0.4\n",
            "regex==2018.1.10\n",
            "requests==2.18.4\n",
            "requests-oauthlib==1.0.0\n",
            "rsa==4.0\n",
            "scikit-image==0.13.1\n",
            "scikit-learn==0.19.2\n",
            "scipy==0.19.1\n",
            "seaborn==0.7.1\n",
            "simplegeneric==0.8.1\n",
            "six==1.11.0\n",
            "spacy==2.0.16\n",
            "statsmodels==0.8.0\n",
            "sympy==1.1.1\n",
            "tensorboard==1.11.0\n",
            "tensorflow==1.12.0rc1\n",
            "tensorflow-hub==0.1.1\n",
            "termcolor==1.1.0\n",
            "terminado==0.8.1\n",
            "testpath==0.4.2\n",
            "Theano==1.0.3\n",
            "thinc==6.12.0\n",
            "toml==0.10.0\n",
            "toolz==0.9.0\n",
            "tornado==4.5.3\n",
            "tqdm==4.27.0\n",
            "traitlets==4.3.2\n",
            "typing==3.6.6\n",
            "ujson==1.35\n",
            "uritemplate==3.0.0\n",
            "urllib3==1.22\n",
            "vega-datasets==0.5.0\n",
            "virtualenv==16.0.0\n",
            "wcwidth==0.1.7\n",
            "webencodings==0.5.1\n",
            "Werkzeug==0.14.1\n",
            "wrapt==1.10.11\n",
            "xgboost==0.7.post4\n"
          ],
          "name": "stdout"
        }
      ]
    },
    {
      "metadata": {
        "id": "o2xrx2c4Ew8W",
        "colab_type": "text"
      },
      "cell_type": "markdown",
      "source": [
        "# ***3. Memory, CPU and GPU Configurations***\n",
        "\n",
        "Memory - !cat /proc/meminfo\n",
        "\n",
        "CPU - !cat /proc/cpuinfo\n",
        "\n",
        "GPU \n",
        "\n",
        "        import tensorflow as tf\n",
        "        tf.test.gpu_device_name()\n"
      ]
    },
    {
      "metadata": {
        "id": "eBF1VxU3GUq7",
        "colab_type": "code",
        "colab": {}
      },
      "cell_type": "code",
      "source": [
        "!cat /proc/meminfo\n"
      ],
      "execution_count": 0,
      "outputs": []
    },
    {
      "metadata": {
        "id": "8DHMF4JrGwEB",
        "colab_type": "code",
        "colab": {}
      },
      "cell_type": "code",
      "source": [
        "!cat /proc/cpuinfo"
      ],
      "execution_count": 0,
      "outputs": []
    },
    {
      "metadata": {
        "id": "WJbYK_kxG5kb",
        "colab_type": "code",
        "colab": {}
      },
      "cell_type": "code",
      "source": [
        "import tensorflow as tf\n",
        "from tensorflow.python.client import device_lib\n",
        "\n",
        "tf.test.gpu_device_name()\n",
        "device_lib.list_local_devices()"
      ],
      "execution_count": 0,
      "outputs": []
    },
    {
      "metadata": {
        "id": "09RxOzjb-UqD",
        "colab_type": "text"
      },
      "cell_type": "markdown",
      "source": [
        "# ***4. How to mount google drive***\n",
        "\n",
        "The example below shows how to mount your Google Drive in your virtual machine using an authorization code, and shows a couple of ways to write & read files there. Once executed, observe the new file (foo.txt) is visible in https://drive.google.com/\n",
        "\n",
        "Note this only supports reading and writing files; to programmatically change sharing settings etc use one of the other options below.\n",
        "\n",
        "\n",
        "\n",
        "Please refer this link to know how to load files into Colab from local file system, google drive in three different forms\n",
        "* Using the native REST API;\n",
        "* Using a wrapper around the API such as PyDrive; or\n",
        "* Mounting your Google Drive in the runtime's virtual machine.\n",
        "* From Google Cloud Storage bucket"
      ]
    },
    {
      "metadata": {
        "id": "YQSrkNm-6hlf",
        "colab_type": "code",
        "colab": {}
      },
      "cell_type": "code",
      "source": [
        "from google.colab import drive\n",
        "drive.mount('/content/gdrive')"
      ],
      "execution_count": 0,
      "outputs": []
    },
    {
      "metadata": {
        "id": "4soWKROU6hL0",
        "colab_type": "code",
        "colab": {}
      },
      "cell_type": "code",
      "source": [
        "with open('/content/gdrive/My Drive/foo.txt', 'w') as f:\n",
        "  f.write('Hello Google Drive!')\n",
        "!cat /content/gdrive/My\\ Drive/foo.txt"
      ],
      "execution_count": 0,
      "outputs": []
    },
    {
      "metadata": {
        "id": "F2k6kExiL4lf",
        "colab_type": "text"
      },
      "cell_type": "markdown",
      "source": [
        "# ***5. How to run Pynb from github***\n",
        "\n",
        "To load a specific notebook from github, append the github path to http://colab.research.google.com/github/.\n",
        "\n",
        "For example to load \n",
        "\n",
        "https://github.com/shranith/Colab-intro/blob/master/Colab_intro.ipynb\n",
        "\n",
        "Append `shranith/Colab-intro/blob/master/Colab_intro.ipynb` to `http://colab.research.google.com/github/`\n",
        "\n",
        "Link after appending:\n",
        "\n",
        "http://colab.research.google.com/github/shranith/Colab-intro/blob/master/Colab_intro.ipynb\n"
      ]
    },
    {
      "metadata": {
        "id": "elIesP1Gc8bh",
        "colab_type": "code",
        "colab": {}
      },
      "cell_type": "code",
      "source": [
        ""
      ],
      "execution_count": 0,
      "outputs": []
    }
  ]
}