{
  "nbformat": 4,
  "nbformat_minor": 0,
  "metadata": {
    "colab": {
      "name": "Cuisine_classification.ipynb",
      "version": "0.3.2",
      "provenance": [],
      "private_outputs": true,
      "collapsed_sections": []
    },
    "kernelspec": {
      "name": "python3",
      "display_name": "Python 3"
    }
  },
  "cells": [
    {
      "metadata": {
        "id": "ycaXL45z63EU",
        "colab_type": "text"
      },
      "cell_type": "markdown",
      "source": [
        "# Welcome to Cusine Classification problem.\n",
        "\n",
        "This is one of the kaggle challenges , refer  [this link](https://www.kaggle.com/c/whats-cooking/data) for more details\n",
        "\n",
        "Details: \n",
        "\n",
        "Use recipe ingredients to categorize the cuisine. \n",
        "\n",
        "Training data consists of id, cuisine and ingredients\n",
        "\n",
        "```\n",
        "{\n",
        " \"id\": 24717,\n",
        " \"cuisine\": \"indian\",\n",
        " \"ingredients\": [\n",
        "     \"tumeric\",\n",
        "     \"vegetable stock\",\n",
        "     \"tomatoes\",\n",
        "     \"garam masala\",\n",
        "     \"naan\",\n",
        "     \"red lentils\",\n",
        "     \"red chili peppers\",\n",
        "     \"onions\",\n",
        "     \"spinach\",\n",
        "     \"sweet potatoes\"\n",
        " ]\n",
        " }```\n",
        " \n",
        " \n",
        " Test data consistst of id and ingredients and we are expected to predict the cuisine\n",
        " \n",
        " \n",
        "\n",
        "```\n",
        "{\n",
        "'id': 41580, \n",
        "'ingredients': [\n",
        "    'sausage links',\n",
        "     'fennel bulb',\n",
        "     'fronds',\n",
        "     'olive oil',\n",
        "     'cuban peppers',\n",
        "     'onions'\n",
        "]\n",
        "}```\n",
        "\n",
        "\n",
        "\n"
      ]
    },
    {
      "metadata": {
        "id": "aCrpa1hE6mcf",
        "colab_type": "text"
      },
      "cell_type": "markdown",
      "source": [
        "**Install the requirements **\n",
        "\n",
        "Most of the pacakges are pre installed in the google colab.\n",
        "\n",
        "Installed packages does not include `gensim`.  \n",
        "\n",
        "Installing gensim using `pip3`"
      ]
    },
    {
      "metadata": {
        "id": "WkrUq4SCZIao",
        "colab_type": "code",
        "colab": {}
      },
      "cell_type": "code",
      "source": [
        "!pip3 install gensim\n"
      ],
      "execution_count": 0,
      "outputs": []
    },
    {
      "metadata": {
        "id": "Pcn9FxayZTI0",
        "colab_type": "code",
        "colab": {}
      },
      "cell_type": "code",
      "source": [
        "import os\n",
        "from os import listdir\n",
        "import gensim\n",
        "import json\n",
        "import pickle\n",
        "import numpy as np\n",
        "import pandas as pd\n",
        "import matplotlib.pyplot as plt\n",
        "import matplotlib.gridspec as gridspec\n",
        "from sklearn.preprocessing import LabelEncoder\n",
        "from sklearn.linear_model import LogisticRegression\n",
        "\n",
        "\n",
        "import warnings\n",
        "warnings.filterwarnings('ignore')"
      ],
      "execution_count": 0,
      "outputs": []
    },
    {
      "metadata": {
        "id": "iIuROR1K9W7S",
        "colab_type": "text"
      },
      "cell_type": "markdown",
      "source": [
        "**Mount google drive** \n",
        "\n",
        "Add [this folder](https://drive.google.com/drive/folders/1jMTbMH0qwoiU64JWO8I_4OXVLTtD7pl6?usp=sharing) to your google drive to load the datasets from your google drive\n"
      ]
    },
    {
      "metadata": {
        "id": "I6Tz0FCeZbVm",
        "colab_type": "code",
        "colab": {}
      },
      "cell_type": "code",
      "source": [
        "from google.colab import drive\n",
        "drive.mount('/content/gdrive')"
      ],
      "execution_count": 0,
      "outputs": []
    },
    {
      "metadata": {
        "id": "na73B3HLZc5Y",
        "colab_type": "code",
        "colab": {}
      },
      "cell_type": "code",
      "source": [
        "# Print contents of mount dataset\n",
        "\n",
        "path = '/content/gdrive/My Drive/cusines dataset/'\n",
        "l = [f for f in listdir(path)]\n",
        "print(l)\n",
        "\n",
        "\n",
        "#Inspect contents \n",
        "# inspect_test = json.load(open(path+'/'+'test.json','r'))\n",
        "# print(inspect_test[2])"
      ],
      "execution_count": 0,
      "outputs": []
    },
    {
      "metadata": {
        "id": "dlHr7e-uZenl",
        "colab_type": "code",
        "colab": {}
      },
      "cell_type": "code",
      "source": [
        "data = pd.read_json(path+'train.json')\n",
        "test = pd.read_json(path+'test.json')\n",
        "\n",
        "print('Training data shape: {}'.format(data.shape))\n",
        "print('Test data shape: {}'.format(test.shape))\n",
        "print('Dataset Keys {}'.format(data.keys()))\n",
        "\n",
        "\n",
        "index = 1\n",
        "print('id: {}'.format(data['id'].iloc[index]))\n",
        "print('ingredients: {}'.format(data['ingredients'].iloc[index]))\n",
        "print('cuisine: {}'.format(data['cuisine'].iloc[index]))\n"
      ],
      "execution_count": 0,
      "outputs": []
    },
    {
      "metadata": {
        "id": "iO-rBHfyZhOd",
        "colab_type": "code",
        "colab": {}
      },
      "cell_type": "code",
      "source": [
        "#load target labels to predict\n",
        "\n",
        "target = data.cuisine"
      ],
      "execution_count": 0,
      "outputs": []
    },
    {
      "metadata": {
        "id": "8rX6rMWybXt3",
        "colab_type": "code",
        "colab": {}
      },
      "cell_type": "code",
      "source": [
        "# Assign a new column to have the counts of each ingredients\n",
        "data['ingredient_count'] = data.ingredients.apply(lambda x: len(x))\n",
        "\n",
        "\n",
        "def flatten_lists(lst):\n",
        "    \"\"\"Remove nested lists.\"\"\"\n",
        "    return [item for sublist in lst for item in sublist]"
      ],
      "execution_count": 0,
      "outputs": []
    },
    {
      "metadata": {
        "id": "8CakEMaWbYM1",
        "colab_type": "code",
        "colab": {}
      },
      "cell_type": "code",
      "source": [
        "# Plot figures \n",
        "\n",
        "f = plt.figure(figsize=(14,8))\n",
        "gs = gridspec.GridSpec(2, 2)\n",
        "\n",
        "ax1 = plt.subplot(gs[0, :])\n",
        "data.ingredient_count.value_counts().hist(ax=ax1)\n",
        "ax1.set_title('Recipe richness', fontsize=12)\n",
        "\n",
        "ax2 = plt.subplot(gs[1, 0])\n",
        "pd.Series(flatten_lists(list(data['ingredients']))).value_counts()[:20].plot(kind='barh', ax=ax2)\n",
        "ax2.set_title('Most popular ingredients', fontsize=12)\n",
        "\n",
        "ax3 = plt.subplot(gs[1, 1])\n",
        "data.groupby('cuisine').mean()['ingredient_count'].sort_values(ascending=False).plot(kind='barh', ax=ax3)\n",
        "ax3.set_title('Average number of ingredients in cuisines', fontsize=12)\n",
        "\n",
        "plt.show()"
      ],
      "execution_count": 0,
      "outputs": []
    },
    {
      "metadata": {
        "id": "uURrZy2abYgL",
        "colab_type": "code",
        "colab": {}
      },
      "cell_type": "code",
      "source": [
        "# load word embeddings for all of the ingredients \n",
        "\n",
        "w2v = gensim.models.Word2Vec(list(data.ingredients), size=350, window=10, min_count=2, iter=20)\n"
      ],
      "execution_count": 0,
      "outputs": []
    },
    {
      "metadata": {
        "id": "pzhdPrazbZTq",
        "colab_type": "code",
        "colab": {}
      },
      "cell_type": "code",
      "source": [
        "# most similar word\n",
        "\n",
        "w2v.most_similar(['meat'])"
      ],
      "execution_count": 0,
      "outputs": []
    },
    {
      "metadata": {
        "id": "TPcGrwRgbaQ8",
        "colab_type": "code",
        "colab": {}
      },
      "cell_type": "code",
      "source": [
        "w2v.most_similar(['chicken'])"
      ],
      "execution_count": 0,
      "outputs": []
    },
    {
      "metadata": {
        "id": "EoF4lQLJDFRx",
        "colab_type": "code",
        "colab": {}
      },
      "cell_type": "code",
      "source": [
        "print(w2v.wv.vocab.keys())\n",
        "# print(w2v.wv['romaine lettuce'])\n",
        "print(type(data.ingredients))\n",
        "\n",
        "print(len(data.ingredients))\n",
        "print(len(test.ingredients))"
      ],
      "execution_count": 0,
      "outputs": []
    },
    {
      "metadata": {
        "id": "Ir6NgyCCb9Gz",
        "colab_type": "code",
        "colab": {}
      },
      "cell_type": "code",
      "source": [
        "def document_vector(doc):\n",
        "    \"\"\"Create document vectors by averaging word vectors. Remove out-of-vocabulary words.\"\"\"\n",
        "    doc = [word for word in doc if word in w2v.wv.vocab]\n",
        "    return np.mean(w2v[doc], axis=0)"
      ],
      "execution_count": 0,
      "outputs": []
    },
    {
      "metadata": {
        "id": "x-10r_y2cBAa",
        "colab_type": "code",
        "colab": {}
      },
      "cell_type": "code",
      "source": [
        "# Adding another column to store the document embeddings\n",
        "data['doc_vector'] = data.ingredients.apply(document_vector)\n",
        "test['doc_vector'] = test.ingredients.apply(document_vector)"
      ],
      "execution_count": 0,
      "outputs": []
    },
    {
      "metadata": {
        "id": "2X0ioEkwcBbU",
        "colab_type": "code",
        "colab": {}
      },
      "cell_type": "code",
      "source": [
        "\n",
        "lb = LabelEncoder() # Encode labels with value between 0 and n_classes-1.\n",
        "\n",
        "y = lb.fit_transform(target) # Fit label encoder and return encoded labels\n",
        "print(y)"
      ],
      "execution_count": 0,
      "outputs": []
    },
    {
      "metadata": {
        "id": "noknldaPcBu_",
        "colab_type": "code",
        "colab": {}
      },
      "cell_type": "code",
      "source": [
        "X = list(data['doc_vector'])\n",
        "X_test = list(test['doc_vector'])"
      ],
      "execution_count": 0,
      "outputs": []
    },
    {
      "metadata": {
        "id": "LCOdebp3cCAK",
        "colab_type": "code",
        "colab": {}
      },
      "cell_type": "code",
      "source": [
        "\n",
        "clf = LogisticRegression(C=100) # Intialize a Logistic Regression Classifier\n",
        "# C is regularization strength\n",
        "\n",
        "#Follow this link for a primer on Logistic Regression\n",
        "#https://www.kdnuggets.com/2016/08/primer-logistic-regression-part-1.html"
      ],
      "execution_count": 0,
      "outputs": []
    },
    {
      "metadata": {
        "id": "NwewvvQ3cCR-",
        "colab_type": "code",
        "colab": {}
      },
      "cell_type": "code",
      "source": [
        "clf.fit(X, y)\n"
      ],
      "execution_count": 0,
      "outputs": []
    },
    {
      "metadata": {
        "id": "jlakIfzzFmc8",
        "colab_type": "code",
        "colab": {}
      },
      "cell_type": "code",
      "source": [
        "# save the model to disk\n",
        "filename = 'finalized_model.sav'\n",
        "pickle.dump(clf, open(path + '/'+filename, 'wb'))\n",
        " \n",
        " \n",
        "# load the model from disk\n",
        "clf = pickle.load(open(path + '/'+ filename, 'rb'))"
      ],
      "execution_count": 0,
      "outputs": []
    },
    {
      "metadata": {
        "id": "fjloHJckj4bM",
        "colab_type": "code",
        "colab": {}
      },
      "cell_type": "code",
      "source": [
        "def predict(ingredient_list):\n",
        "  \"\"\"Predict cusine based on ingredient list\"\"\"\n",
        "  doc_vector = document_vector(ingredient_list)\n",
        "  y_test = clf.predict([doc_vector])\n",
        "  y_pred = lb.inverse_transform(y_test)\n",
        "  return y_pred\n",
        "  \n",
        "  \n",
        "ingredient_list = ['sausage links','fennel bulb','fronds','olive oil','cuban peppers','onions']\n",
        "ingredient_list = ['plain flour', 'ground pepper', 'salt', 'tomatoes', 'ground black pepper', 'thyme', 'eggs', 'green tomatoes', 'yellow corn meal', 'milk', 'vegetable oil']\n",
        "print('Cusine ',predict(ingredient_list))"
      ],
      "execution_count": 0,
      "outputs": []
    },
    {
      "metadata": {
        "id": "LorVMegDNuLS",
        "colab_type": "code",
        "colab": {}
      },
      "cell_type": "code",
      "source": [
        "!ls -alh\n"
      ],
      "execution_count": 0,
      "outputs": []
    },
    {
      "metadata": {
        "id": "v-an2B1ncCir",
        "colab_type": "code",
        "colab": {}
      },
      "cell_type": "code",
      "source": [
        "# X_test1 = X_test[:1]\n",
        "# \n",
        "y_test = clf.predict(X_test)\n",
        "y_pred = lb.inverse_transform(y_test)\n",
        "print(y_pred)"
      ],
      "execution_count": 0,
      "outputs": []
    },
    {
      "metadata": {
        "id": "T5LjTFEWcC1f",
        "colab_type": "code",
        "colab": {}
      },
      "cell_type": "code",
      "source": [
        "test_id = [id_ for id_ in test.id]\n",
        "sub = pd.DataFrame({'id': test_id, 'cuisine': y_pred}, columns=['id', 'cuisine'])\n",
        "sub.to_csv(path + '/'+'clf_output.csv', index=False)"
      ],
      "execution_count": 0,
      "outputs": []
    },
    {
      "metadata": {
        "id": "UBjRojYdcDFE",
        "colab_type": "code",
        "colab": {}
      },
      "cell_type": "code",
      "source": [
        "!ls\n"
      ],
      "execution_count": 0,
      "outputs": []
    },
    {
      "metadata": {
        "id": "-WDPsdPkcDUj",
        "colab_type": "code",
        "colab": {}
      },
      "cell_type": "code",
      "source": [
        "!cat clf_output.csv"
      ],
      "execution_count": 0,
      "outputs": []
    },
    {
      "metadata": {
        "id": "AfA0-bcacDjg",
        "colab_type": "code",
        "colab": {}
      },
      "cell_type": "code",
      "source": [
        ""
      ],
      "execution_count": 0,
      "outputs": []
    }
  ]
}